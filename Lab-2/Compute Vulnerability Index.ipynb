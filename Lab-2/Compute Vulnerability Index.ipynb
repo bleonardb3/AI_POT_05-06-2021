{
 "cells": [
  {
   "cell_type": "markdown",
   "metadata": {},
   "source": [
    "#### Install Watson Python SDK"
   ]
  },
  {
   "cell_type": "code",
   "execution_count": null,
   "metadata": {},
   "outputs": [],
   "source": [
    "!pip install --upgrade ibm-watson"
   ]
  },
  {
   "cell_type": "code",
   "execution_count": null,
   "metadata": {},
   "outputs": [],
   "source": [
    "import json\n",
    "from ibm_watson import DiscoveryV1\n",
    "from ibm_cloud_sdk_core.authenticators import IAMAuthenticator"
   ]
  },
  {
   "cell_type": "markdown",
   "metadata": {},
   "source": [
    "#### Insert the Watson Discovery API key"
   ]
  },
  {
   "cell_type": "code",
   "execution_count": null,
   "metadata": {},
   "outputs": [],
   "source": [
    "authenticator = IAMAuthenticator('INSERT WATSON DISCOVERY API KEY')\n",
    "\n",
    "discovery = DiscoveryV1(\n",
    "    version='2019-04-30',\n",
    "    authenticator=authenticator)\n",
    "discovery.set_service_url('https://gateway.watsonplatform.net/discovery/api')"
   ]
  },
  {
   "cell_type": "markdown",
   "metadata": {},
   "source": [
    "#### Display Watson Discovery Environment ID"
   ]
  },
  {
   "cell_type": "code",
   "execution_count": null,
   "metadata": {},
   "outputs": [],
   "source": [
    "environments = discovery.list_environments().get_result()\n",
    "print(json.dumps(environments, indent=2))"
   ]
  },
  {
   "cell_type": "markdown",
   "metadata": {},
   "source": [
    "#### Copy the environment id from the above output "
   ]
  },
  {
   "cell_type": "code",
   "execution_count": null,
   "metadata": {},
   "outputs": [],
   "source": [
    "# pLease copy the value of the environment id from the above output below \n",
    "\n",
    "covid_environment_id = 'Copy Watson Discovery Environment ID Value' \n"
   ]
  },
  {
   "cell_type": "code",
   "execution_count": null,
   "metadata": {},
   "outputs": [],
   "source": [
    "collections = discovery.list_collections(covid_environment_id).get_result()\n",
    "collections = [x for x in collections['collections']]\n",
    "print(json.dumps(collections, indent=2))"
   ]
  },
  {
   "cell_type": "markdown",
   "metadata": {},
   "source": [
    "#### Query the collection - no filter applied"
   ]
  },
  {
   "cell_type": "code",
   "execution_count": null,
   "metadata": {
    "scrolled": true
   },
   "outputs": [],
   "source": [
    "query_results = discovery.query(\n",
    "    covid_environment_id,\n",
    "    collections[0]['collection_id'],\n",
    "    count=364).get_result()\n",
    "#    filter='extracted_metadata.sha1::f5*',\n",
    "#   return_fields='extracted_metadata.sha1').get_result()\n",
    "print(json.dumps(query_results, indent=2))"
   ]
  },
  {
   "cell_type": "markdown",
   "metadata": {},
   "source": [
    "#### Calculate the number of posts by city "
   ]
  },
  {
   "cell_type": "code",
   "execution_count": null,
   "metadata": {},
   "outputs": [],
   "source": [
    "Counts = {\"chicago\":0.0,\"Seattle\":0.0,\"LosAngeles\":0.0,\"washingtondc\":0.0,\"newyork\":0.0}\n",
    "\n",
    "for result in query_results[\"results\"]:\n",
    "    try: \n",
    "       Counts[result[\"subreddit\"]]+=1\n",
    "    except KeyError:\n",
    "       Counts[\"newyork\"] += 1 \n",
    "       result[\"subreddit\"] = \"newyork\"\n",
    "    except:\n",
    "       print(\"Exception Occurred\")\n",
    "     \n",
    "print (Counts)"
   ]
  },
  {
   "cell_type": "markdown",
   "metadata": {},
   "source": [
    "#### Calculate the number of posts by city and entity type "
   ]
  },
  {
   "cell_type": "code",
   "execution_count": null,
   "metadata": {},
   "outputs": [],
   "source": [
    "Entities = {\"chicago\":{},\"Seattle\":{}, \"LosAngeles\":{}, \"washingtondc\":{},\"newyork\":{}}\n",
    "Mentions = {\"chicago\":0, \"Seattle\":0,\"LosAngeles\":0, \"washingtondc\":0, \"newyork\":0}\n",
    "\n",
    "for result in query_results[\"results\"]:\n",
    "    try:\n",
    "       i = result[\"enriched_text\"][\"entities\"]\n",
    "       for entity in i:\n",
    "          type = entity[\"type\"]\n",
    "             # print (type)\n",
    "          try:\n",
    "             Entities[result[\"subreddit\"]][type] += 1\n",
    "             Mentions[result[\"subreddit\"]] += 1\n",
    "             \n",
    "          except KeyError:\n",
    "             Entities[result[\"subreddit\"]][type] = 1\n",
    "             Mentions[result[\"subreddit\"]] += 1\n",
    "                             \n",
    "          except:\n",
    "             print (\"Exception Occurred\")\n",
    "    except KeyError:\n",
    "        print (\"entity key error\")\n",
    "    except:\n",
    "        print (\"Other error\")\n",
    "\n",
    "print (Entities)\n",
    "                             \n",
    "print (Mentions)\n",
    "            \n",
    "    "
   ]
  },
  {
   "cell_type": "markdown",
   "metadata": {},
   "source": [
    " \n",
    "#### Compute weighted sum of Insurance/Employment vulnerability by city "
   ]
  },
  {
   "cell_type": "code",
   "execution_count": null,
   "metadata": {},
   "outputs": [],
   "source": [
    "# Status_Factors - provides a weighting factor for each of the employment/insurance entity types\n",
    "Status_Factors = {\"Unemployed\":0.5,\"No_Health_Insurance\":0.5,\"Medically_insured\":-0.5, \"Full_Time_Employment\":-0.5}\n",
    "\n",
    "# Status - provides a weighted sum by city of the Status_Values for each entity type multiplied by the posts for that entity type. \n",
    "Status = {\"chicago\":0.0,\"Seattle\":0.0,\"LosAngeles\":0.0,\"washingtondc\":0.0,\"newyork\":0.0}\n",
    "\n",
    "for entity in Entities.keys():\n",
    "    for status in Status_Factors.keys():\n",
    "       try:\n",
    "#          print(entity,status,Entities[entity][status])\n",
    "          Status[entity] += Status_Factors[status]*Entities[entity][status]\n",
    "       except KeyError:\n",
    "          print (entity,status)\n",
    "print()            \n",
    "print (Status) "
   ]
  },
  {
   "cell_type": "markdown",
   "metadata": {},
   "source": [
    "#### Compute weighted sum of Age/Health/Education vulnerability by city "
   ]
  },
  {
   "cell_type": "code",
   "execution_count": null,
   "metadata": {},
   "outputs": [],
   "source": [
    "Household_Factors = {\"Senior_Citizen\":.35, \"Minor\": 0.25, \"Disabled\":.20, \"Single_Parent\":.15, \"No_High_School_Diploma\":0.05, \"High_School_Student\":-.2, \"University_Student\":-.3}\n",
    "Household = {\"chicago\":0, \"Seattle\":0, \"LosAngeles\":0,\"washingtondc\":0,\"newyork\":0 }\n",
    "\n",
    "for entity in Entities.keys():\n",
    "    for status in Household_Factors.keys():\n",
    "       try:\n",
    "          print(entity,status,Entities[entity][status])\n",
    "          Household[entity] += Household_Factors[status]*Entities[entity][status]\n",
    "       except KeyError:\n",
    "          print (entity,status)\n",
    "            \n",
    "print()\n",
    "print (Household)\n",
    "\n"
   ]
  },
  {
   "cell_type": "code",
   "execution_count": null,
   "metadata": {},
   "outputs": [],
   "source": [
    "Minority_Factors =  {\"Minority\":.6, \"ESL_Speaker\":.4} \n",
    "Minority = {\"chicago\":0.0,\"Seattle\":0.0,\"LosAngeles\":0.0,\"washingtondc\":0.0,\"newyork\":0.0}\n",
    "\n",
    "for entity in Entities.keys():\n",
    "    for status in Minority_Factors.keys():\n",
    "       try:\n",
    "          print(entity,status,Entities[entity][status])\n",
    "          Minority[entity] += Minority_Factors[status]*Entities[entity][status]\n",
    "       except KeyError:\n",
    "          print (entity,status)\n",
    "            \n",
    "print()            \n",
    "print (Minority)\n"
   ]
  },
  {
   "cell_type": "code",
   "execution_count": null,
   "metadata": {},
   "outputs": [],
   "source": [
    "House_Factors = {\"Mobile_Home_Owner\": 0.5, \"Crowded_Living\": 0.3, \"No_Vehicle\":0.2, \"Apartment_Renter\":-.25,\"Home_Owner\":-.65, \"Car_Owner\":-.1}\n",
    "House = {\"chicago\":0.0,\"Seattle\":0.0,\"LosAngeles\":0.0,\"washingtondc\":0.0,\"newyork\":0.0}\n",
    "\n",
    "for entity in Entities.keys():\n",
    "    for status in House_Factors.keys():\n",
    "       try:\n",
    "          print(entity,status,Entities[entity][status])\n",
    "          House[entity] += House_Factors[status]*Entities[entity][status]\n",
    "       except KeyError:\n",
    "          print (entity,status)\n",
    "            \n",
    "print()           \n",
    "\n",
    "print (House)\n"
   ]
  },
  {
   "cell_type": "markdown",
   "metadata": {},
   "source": [
    "#### Compute overall notional Social Vulnerabilty Index"
   ]
  },
  {
   "cell_type": "code",
   "execution_count": null,
   "metadata": {},
   "outputs": [],
   "source": [
    "SVI = {\"chicago\":0.0,\"Seattle\":0.0,\"LosAngeles\":0.0,\"washingtondc\":0.0,\"newyork\":0.0}\n",
    "\n",
    "for city in SVI.keys():\n",
    "    SVI[city] = (SVI[city] + (Status[city]*.4 + Household[city]*.3 + Minority[city]*.2 + House[city]*.3))*100/Mentions[city]\n",
    "\n",
    " \n",
    "print (SVI)"
   ]
  }
 ],
 "metadata": {
  "kernelspec": {
   "display_name": "Python 3.7",
   "language": "python",
   "name": "python3"
  },
  "language_info": {
   "codemirror_mode": {
    "name": "ipython",
    "version": 3
   },
   "file_extension": ".py",
   "mimetype": "text/x-python",
   "name": "python",
   "nbconvert_exporter": "python",
   "pygments_lexer": "ipython3",
   "version": "3.7.10"
  }
 },
 "nbformat": 4,
 "nbformat_minor": 1
}
